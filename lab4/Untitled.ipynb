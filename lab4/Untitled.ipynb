{
 "cells": [
  {
   "cell_type": "code",
   "execution_count": 716,
   "metadata": {},
   "outputs": [],
   "source": [
    "from copy import copy\n",
    "import ctypes"
   ]
  },
  {
   "cell_type": "code",
   "execution_count": 759,
   "metadata": {},
   "outputs": [],
   "source": [
    "VAR_INDEX = 0\n",
    "SUBSTITUDE_INDEX = 0\n",
    "\n",
    "# Abstract class Formula\n",
    "class Formula(): \n",
    "    def __init__(self, args, negated=False):\n",
    "        self.negated = negated\n",
    "        self.args = args \n",
    "        self.tree_args = []\n",
    "        self.is_substitude = False\n",
    "        self.substitude = None\n",
    "    def __neg__(self): \n",
    "        new_object = copy(self)\n",
    "        new_object.negated = not new_object.negated\n",
    "        return new_object \n",
    "    def __add__(self, other): return Disjunction(self, other)\n",
    "    def __mul__(self, other): return Conjunction(self, other)\n",
    "    def __rshift__(self, other): return Implication(self, other)\n",
    "    def __mod__(self, other): return Equivalence(self, other)\n",
    "    def __lt__(self, other):        \n",
    "        if type(self) == Var and type(other) == Var:\n",
    "            return self.name < other.name\n",
    "        \n",
    "        self_flattenize = []\n",
    "        other_flattenize = []\n",
    "        flattenize(self.tree_args, self_flattenize)\n",
    "        flattenize(other.tree_args, other_flattenize)\n",
    "        \n",
    "        if type(self) == Var and (type(other) == Conjunction or type(other) == Disjunction):\n",
    "            if is_all_leaves(other):\n",
    "                return self.name <= other.args[0].name\n",
    "            return self.name <= other_flattenize[0]\n",
    "        if  (type(self) == Conjunction or type(self) == Disjunction) and type(other) == Var:\n",
    "            if is_all_leaves(self):\n",
    "                return self.args[0].name < other.name\n",
    "            return self_flattenize[0] < other.name\n",
    "        if  (type(self) == Conjunction or type(self) == Disjunction) and (type(other) == Conjunction or type(other) == Disjunction):\n",
    "            if is_all_leaves(self) and is_all_leaves(other):\n",
    "                return self.args < other.args\n",
    "            return self_flattenize < other_flattenize\n",
    "        \n",
    "        \n",
    "# Abstract class Connective \n",
    "class Connective(Formula): \n",
    "    def __init__(self, left, right):\n",
    "        super().__init__([left, right], False)\n",
    "        \n",
    "\n",
    "# Conjunction\n",
    "class Conjunction(Connective):\n",
    "    pass\n",
    "\n",
    "# Disjunction\n",
    "class Disjunction(Connective): \n",
    "    pass\n",
    "\n",
    "# Implication\n",
    "class Implication(Formula):\n",
    "    def __init__(self, left, right):\n",
    "        super().__init__([left, right], False)\n",
    "\n",
    "# Equivalence\n",
    "class Equivalence(Formula): \n",
    "    def __init__(self, left, right):\n",
    "        super().__init__([left, right], False)\n",
    "\n",
    "# Variable\n",
    "class Var(Formula):\n",
    "    def __init__(self, name):\n",
    "        super().__init__(None)        \n",
    "        global VAR_INDEX\n",
    "        self.index = VAR_INDEX\n",
    "        VAR_INDEX += 1\n",
    "        self.name = name\n",
    "\n",
    "# Substitute for CNFs        \n",
    "class Substitute(Formula):\n",
    "    def __init__(self):\n",
    "        super().__init__(None)        \n",
    "        global SUBSTITUDE_INDEX\n",
    "        self.index = SUBSTITUDE_INDEX\n",
    "        SUBSTITUDE_INDEX += 1\n",
    "        self.name = 'r' + str(SUBSTITUDE_INDEX)        "
   ]
  },
  {
   "cell_type": "code",
   "execution_count": 752,
   "metadata": {},
   "outputs": [],
   "source": [
    "def remove_imp_eq(formula):\n",
    "    if type(formula) == Var:\n",
    "        return formula\n",
    "    \n",
    "    if type(formula) == Conjunction:\n",
    "        expr = remove_imp_eq(formula.args[0]) * remove_imp_eq(formula.args[1])\n",
    "    \n",
    "    if type(formula) == Disjunction:\n",
    "        expr = remove_imp_eq(formula.args[0]) + remove_imp_eq(formula.args[1])\n",
    "    \n",
    "    if type(formula) == Implication:\n",
    "        expr = remove_imp_eq(-(formula.args[0])) + remove_imp_eq(formula.args[1])\n",
    "    \n",
    "    if type(formula) == Equivalence:\n",
    "        expr = remove_imp_eq(formula.args[0]) * remove_imp_eq(formula.args[1]) + \\\n",
    "               remove_imp_eq(-(formula.args[0])) * remove_imp_eq(-(formula.args[1]))\n",
    "    expr.negated = formula.negated\n",
    "    return expr\n",
    "\n",
    "def de_morgan(formula):\n",
    "    if type(formula) == Var:\n",
    "        return formula\n",
    "    if type(formula) == Disjunction :\n",
    "        if formula.negated:\n",
    "            return de_morgan(-formula.args[0]) * de_morgan(-formula.args[1])\n",
    "        else:\n",
    "            return de_morgan(formula.args[0]) + de_morgan(formula.args[1])\n",
    "    if type(formula) == Conjunction:\n",
    "        if formula.negated:\n",
    "            return de_morgan(-formula.args[0]) + de_morgan(-formula.args[1])\n",
    "        else:\n",
    "            return de_morgan(formula.args[0]) * de_morgan(formula.args[1])\n",
    "\n",
    "def flatten_list(l):\n",
    "    flat_list = []\n",
    "    for list_elem in l:\n",
    "        if type(list_elem) == list:\n",
    "            for item in list_elem:\n",
    "                flat_list.append(item)\n",
    "        else:\n",
    "            flat_list.append(list_elem)\n",
    "    return flat_list\n",
    "\n",
    "def remove_associativity(formula):\n",
    "    if type(formula) != Var: \n",
    "        for i, arg in enumerate(formula.args):\n",
    "            if (type(formula) == Disjunction and type(formula.args[i]) == Disjunction) or \\\n",
    "            (type(formula) == Conjunction and type(formula.args[i]) == Conjunction):\n",
    "                formula.args[i] = formula.args[i].args\n",
    "                formula.args = flatten_list(formula.args)\n",
    "                remove_associativity(formula)  \n",
    "        for i, arg in enumerate(formula.args):\n",
    "            remove_associativity(arg)\n",
    "\n",
    "def get_tree_args(formula):\n",
    "    if type(formula) != Var:\n",
    "        for arg in formula.args:\n",
    "            get_tree_args(arg)\n",
    "            if type(arg) == Conjunction or type(arg) == Disjunction:\n",
    "                for inner_arg in arg.args:\n",
    "                    if type(inner_arg) == Var:\n",
    "                        inner_arg.tree_args = inner_arg.name\n",
    "                        arg.tree_args += [inner_arg.name]\n",
    "                    else:\n",
    "                        arg.tree_args += [inner_arg.tree_args]\n",
    "    else:\n",
    "        formula.tree_args = formula.name\n",
    "                        \n",
    "def get_root_tree(formula):\n",
    "    for arg in formula.args:\n",
    "        formula.tree_args.append(arg.tree_args)\n",
    "        \n",
    "def get_formula_tree(formula):\n",
    "    get_tree_args(formula)\n",
    "    get_root_tree(formula)\n",
    "\n",
    "    \n",
    "def clear_formula_tree(formula):\n",
    "    formula.tree_args = []\n",
    "    if type(formula) != Var:\n",
    "        for arg in formula.args:\n",
    "            clear_formula_tree(arg)\n",
    "\n",
    "def is_all_leaves(formula):\n",
    "    for arg in formula.args:\n",
    "        if type(arg) != Var and type(arg) != Substitute and not arg.is_substitude:\n",
    "            return False\n",
    "    return True\n",
    "\n",
    "def flattenize(tree_args, result):\n",
    "    for i, elem in enumerate(tree_args):\n",
    "        if type(elem) != list:\n",
    "            result += [elem]\n",
    "        else:\n",
    "            flattenize(elem, result)\n",
    "\n",
    "def sorting(formula):\n",
    "    if type(formula) != Var:\n",
    "        for arg in formula.args:\n",
    "            sorting(arg)\n",
    "        if type(formula) == Conjunction or type(formula) == Disjunction:\n",
    "            formula.args = sorted(formula.args)\n",
    "            clear_formula_tree(f)\n",
    "            get_formula_tree(f)                "
   ]
  },
  {
   "cell_type": "code",
   "execution_count": null,
   "metadata": {},
   "outputs": [],
   "source": [
    "mutable"
   ]
  },
  {
   "cell_type": "code",
   "execution_count": 784,
   "metadata": {},
   "outputs": [],
   "source": [
    "def find_substitutes(formula, R):\n",
    "    if type(formula) != Var:\n",
    "        for arg in formula.args:\n",
    "            find_substitutes(arg, R)\n",
    "        print(formula.tree_args, is_all_leaves(formula))\n",
    "        if (type(formula) == Conjunction or type(formula) == Disjunction) and is_all_leaves(formula):\n",
    "            sub = Substitute()\n",
    "            R.append(sub % formula)\n",
    "            formula.is_substitude = True\n",
    "            formula.substitude = sub % formula\n",
    "            formula.substitude = sub\n",
    "            \n",
    "# def replace_substitudes(formula):\n",
    "#     if type(formula) != Var:\n",
    "#         for i, arg in enumerate(formula.args):\n",
    "#             if arg.is_substitude:\n",
    "                \n",
    "    "
   ]
  },
  {
   "cell_type": "code",
   "execution_count": 776,
   "metadata": {},
   "outputs": [
    {
     "data": {
      "text/plain": [
       "(<__main__.Var at 0x1ea7fb2b8d0>,\n",
       " <__main__.Var at 0x1ea7fb2ba20>,\n",
       " <__main__.Var at 0x1ea7fb2ba58>,\n",
       " <__main__.Var at 0x1ea7fb2b080>,\n",
       " <__main__.Var at 0x1ea7fb2b898>)"
      ]
     },
     "execution_count": 776,
     "metadata": {},
     "output_type": "execute_result"
    }
   ],
   "source": [
    "a = Var('a')\n",
    "b = Var('b')\n",
    "c = Var('c')\n",
    "d = Var('d')\n",
    "e = Var('e')\n",
    "g = Var('g')\n",
    "a,b,c,d,e"
   ]
  },
  {
   "cell_type": "code",
   "execution_count": 781,
   "metadata": {
    "scrolled": true
   },
   "outputs": [
    {
     "data": {
      "text/plain": [
       "['a', ['b', ['a', 'c'], 'd']]"
      ]
     },
     "execution_count": 781,
     "metadata": {},
     "output_type": "execute_result"
    }
   ],
   "source": [
    "# f = (d+c+e*(d+a)*((g*g) + a)) * (a*g + c*c) * e * -(b + a + c) \n",
    "f = a + (b * (a+c) * d)\n",
    "f = de_morgan(f)\n",
    "remove_associativity(f)\n",
    "get_formula_tree(f)\n",
    "f.tree_args"
   ]
  },
  {
   "cell_type": "code",
   "execution_count": 782,
   "metadata": {},
   "outputs": [
    {
     "data": {
      "text/plain": [
       "['a', [['a', 'c'], 'b', 'd']]"
      ]
     },
     "execution_count": 782,
     "metadata": {},
     "output_type": "execute_result"
    }
   ],
   "source": [
    "sorting(f)\n",
    "f.tree_args"
   ]
  },
  {
   "cell_type": "code",
   "execution_count": 785,
   "metadata": {},
   "outputs": [
    {
     "name": "stdout",
     "output_type": "stream",
     "text": [
      "['a', 'c'] True\n",
      "[['a', 'c'], 'b', 'd'] True\n",
      "['a', [['a', 'c'], 'b', 'd']] True\n"
     ]
    }
   ],
   "source": [
    "R = []\n",
    "find_substitutes(f, R)"
   ]
  },
  {
   "cell_type": "code",
   "execution_count": 795,
   "metadata": {},
   "outputs": [
    {
     "data": {
      "text/plain": [
       "[<__main__.Disjunction at 0x1ea7ff53d30>,\n",
       " <__main__.Var at 0x1ea7fb2ba20>,\n",
       " <__main__.Var at 0x1ea7fb2b080>]"
      ]
     },
     "execution_count": 795,
     "metadata": {},
     "output_type": "execute_result"
    }
   ],
   "source": [
    "R[1].args[1].args"
   ]
  },
  {
   "cell_type": "code",
   "execution_count": 691,
   "metadata": {},
   "outputs": [
    {
     "data": {
      "text/plain": [
       "[<__main__.Disjunction at 0x1ea7fdff358>,\n",
       " <__main__.Var at 0x1ea7fdffb70>,\n",
       " <__main__.Var at 0x1ea7f992898>]"
      ]
     },
     "execution_count": 691,
     "metadata": {},
     "output_type": "execute_result"
    }
   ],
   "source": [
    "f.args[1].args"
   ]
  },
  {
   "cell_type": "code",
   "execution_count": 725,
   "metadata": {
    "scrolled": true
   },
   "outputs": [],
   "source": [
    "ttt = a + b * c\n",
    "r = Substitute()\n",
    "ch_value = ttt.args[1]\n",
    "memfield = (ctypes.c_char).from_address(id(r))\n",
    "# a = (ctypes.c_char).from_address(id(r))"
   ]
  },
  {
   "cell_type": "code",
   "execution_count": 737,
   "metadata": {},
   "outputs": [],
   "source": [
    "variable = 5\n",
    "address = id(variable)\n",
    "memfield = (ctypes.c_char).from_address(address)"
   ]
  },
  {
   "cell_type": "code",
   "execution_count": 749,
   "metadata": {},
   "outputs": [
    {
     "data": {
      "text/plain": [
       "<function _ctypes.addressof>"
      ]
     },
     "execution_count": 749,
     "metadata": {},
     "output_type": "execute_result"
    }
   ],
   "source": []
  },
  {
   "cell_type": "code",
   "execution_count": 721,
   "metadata": {},
   "outputs": [
    {
     "data": {
      "text/plain": [
       "<__main__.Conjunction at 0x1ea7f6df470>"
      ]
     },
     "execution_count": 721,
     "metadata": {},
     "output_type": "execute_result"
    }
   ],
   "source": [
    "ttt.args[1]"
   ]
  },
  {
   "cell_type": "code",
   "execution_count": 713,
   "metadata": {},
   "outputs": [
    {
     "data": {
      "text/plain": [
       "<__main__.Disjunction at 0x1ea7fa162e8>"
      ]
     },
     "execution_count": 713,
     "metadata": {},
     "output_type": "execute_result"
    }
   ],
   "source": [
    "ttt"
   ]
  },
  {
   "cell_type": "code",
   "execution_count": null,
   "metadata": {},
   "outputs": [],
   "source": [
    "memfield = (ctypes.c_char).from_address(0x0A7F03E4)"
   ]
  },
  {
   "cell_type": "code",
   "execution_count": 714,
   "metadata": {},
   "outputs": [
    {
     "data": {
      "text/plain": [
       "'0x1ea7fa162e8'"
      ]
     },
     "execution_count": 714,
     "metadata": {},
     "output_type": "execute_result"
    }
   ],
   "source": [
    "hex(id(ttt))"
   ]
  }
 ],
 "metadata": {
  "kernelspec": {
   "display_name": "Python 3",
   "language": "python",
   "name": "python3"
  },
  "language_info": {
   "codemirror_mode": {
    "name": "ipython",
    "version": 3
   },
   "file_extension": ".py",
   "mimetype": "text/x-python",
   "name": "python",
   "nbconvert_exporter": "python",
   "pygments_lexer": "ipython3",
   "version": "3.6.4"
  }
 },
 "nbformat": 4,
 "nbformat_minor": 2
}
