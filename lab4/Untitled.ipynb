{
 "cells": [
  {
   "cell_type": "code",
   "execution_count": 124,
   "metadata": {},
   "outputs": [],
   "source": [
    "from copy import copy"
   ]
  },
  {
   "cell_type": "code",
   "execution_count": 624,
   "metadata": {},
   "outputs": [],
   "source": [
    "VAR_INDEX = 0\n",
    "\n",
    "# Abstract class Formula\n",
    "class Formula(): \n",
    "    def __init__(self, args, negated=False):\n",
    "        self.negated = negated\n",
    "        self.args = args  \n",
    "    def __neg__(self): \n",
    "        new_object = copy(self)\n",
    "        new_object.negated = not new_object.negated\n",
    "        return new_object \n",
    "    def __add__(self, other): return Disjunction(self, other)\n",
    "    def __mul__(self, other): return Conjunction(self, other)\n",
    "    def __rshift__(self, other): return Implication(self, other)\n",
    "    def __mod__(self, other): return Equivalence(self, other)\n",
    "    def __lt__(self, other):\n",
    "        if type(self) == Var and type(other) == Var:\n",
    "            return self.name < other.name\n",
    "        if type(self) == Var and (type(other) == Conjunction or type(other) == Disjunction):\n",
    "            return self.name <= other.args[0].name\n",
    "        if  (type(self) == Conjunction or type(self) == Disjunction) and type(other) == Var:\n",
    "            return self.args[0].name < other.name\n",
    "        if  (type(self) == Conjunction and type(other) == Conjunction) or (type(self) == Disjunction and type(other) == Disjunction):\n",
    "            self_names = []\n",
    "            other_names = []\n",
    "            for arg in self.args:\n",
    "                self_names.append(arg.name)\n",
    "            for arg in other.args:\n",
    "                other_names.append(arg.name)\n",
    "            print(self_names, other_names)\n",
    "            return self_names < other_names\n",
    "        \n",
    "        \n",
    "# Abstract class Connective \n",
    "class Connective(Formula): \n",
    "    def __init__(self, left, right):\n",
    "        super().__init__([left, right], False)\n",
    "\n",
    "# Conjunction\n",
    "class Conjunction(Connective):\n",
    "    pass\n",
    "\n",
    "# Disjunction\n",
    "class Disjunction(Connective): \n",
    "    pass\n",
    "\n",
    "# Implication\n",
    "class Implication(Formula):\n",
    "    def __init__(self, left, right):\n",
    "        super().__init__([left, right], False)\n",
    "\n",
    "# Equivalence\n",
    "class Equivalence(Formula): \n",
    "    def __init__(self, left, right):\n",
    "        super().__init__([left, right], False)\n",
    "\n",
    "# Variable\n",
    "class Var(Formula):\n",
    "    def __init__(self, name, specific_negated=False):\n",
    "        super().__init__(None, negated=specific_negated)        \n",
    "        global VAR_INDEX\n",
    "        self.index = VAR_INDEX\n",
    "        VAR_INDEX += 1\n",
    "        self.name = name"
   ]
  },
  {
   "cell_type": "code",
   "execution_count": 265,
   "metadata": {},
   "outputs": [],
   "source": [
    "def remove_imp_eq(formula):\n",
    "    if type(formula) == Var:\n",
    "        return formula\n",
    "    \n",
    "    if type(formula) == Conjunction:\n",
    "        expr = remove_imp_eq(formula.args[0]) * remove_imp_eq(formula.args[1])\n",
    "    \n",
    "    if type(formula) == Disjunction:\n",
    "        expr = remove_imp_eq(formula.args[0]) + remove_imp_eq(formula.args[1])\n",
    "    \n",
    "    if type(formula) == Implication:\n",
    "        expr = remove_imp_eq(-(formula.args[0])) + remove_imp_eq(formula.args[1])\n",
    "    \n",
    "    if type(formula) == Equivalence:\n",
    "        expr = remove_imp_eq(formula.args[0]) * remove_imp_eq(formula.args[1]) + \\\n",
    "               remove_imp_eq(-(formula.args[0])) * remove_imp_eq(-(formula.args[1]))\n",
    "    expr.negated = formula.negated\n",
    "    return expr"
   ]
  },
  {
   "cell_type": "code",
   "execution_count": 266,
   "metadata": {},
   "outputs": [
    {
     "ename": "AttributeError",
     "evalue": "'Disjunction' object has no attribute 'name'",
     "output_type": "error",
     "traceback": [
      "\u001b[1;31m---------------------------------------------------------------------------\u001b[0m",
      "\u001b[1;31mAttributeError\u001b[0m                            Traceback (most recent call last)",
      "\u001b[1;32m<ipython-input-266-97d23a852a2c>\u001b[0m in \u001b[0;36m<module>\u001b[1;34m()\u001b[0m\n\u001b[0;32m      1\u001b[0m \u001b[0mf\u001b[0m \u001b[1;33m=\u001b[0m \u001b[1;33m(\u001b[0m\u001b[0ma\u001b[0m \u001b[1;33m%\u001b[0m \u001b[0ma\u001b[0m\u001b[1;33m)\u001b[0m \u001b[1;33m>>\u001b[0m \u001b[1;33m(\u001b[0m\u001b[0mb\u001b[0m \u001b[1;33m%\u001b[0m \u001b[0mb\u001b[0m\u001b[1;33m)\u001b[0m\u001b[1;33m\u001b[0m\u001b[0m\n\u001b[0;32m      2\u001b[0m \u001b[0mr\u001b[0m \u001b[1;33m=\u001b[0m \u001b[0mremove_imp_eq\u001b[0m\u001b[1;33m(\u001b[0m\u001b[0mf\u001b[0m\u001b[1;33m)\u001b[0m\u001b[1;33m\u001b[0m\u001b[0m\n\u001b[1;32m----> 3\u001b[1;33m \u001b[0mprint\u001b[0m\u001b[1;33m(\u001b[0m\u001b[0mr\u001b[0m\u001b[1;33m.\u001b[0m\u001b[0margs\u001b[0m\u001b[1;33m[\u001b[0m\u001b[1;36m0\u001b[0m\u001b[1;33m]\u001b[0m\u001b[1;33m.\u001b[0m\u001b[0mname\u001b[0m\u001b[1;33m,\u001b[0m \u001b[0mr\u001b[0m\u001b[1;33m.\u001b[0m\u001b[0margs\u001b[0m\u001b[1;33m[\u001b[0m\u001b[1;36m0\u001b[0m\u001b[1;33m]\u001b[0m\u001b[1;33m.\u001b[0m\u001b[0mnegated\u001b[0m\u001b[1;33m)\u001b[0m\u001b[1;33m\u001b[0m\u001b[0m\n\u001b[0m\u001b[0;32m      4\u001b[0m \u001b[0mprint\u001b[0m\u001b[1;33m(\u001b[0m\u001b[0mr\u001b[0m\u001b[1;33m.\u001b[0m\u001b[0margs\u001b[0m\u001b[1;33m[\u001b[0m\u001b[1;36m1\u001b[0m\u001b[1;33m]\u001b[0m\u001b[1;33m.\u001b[0m\u001b[0mname\u001b[0m\u001b[1;33m,\u001b[0m \u001b[0mr\u001b[0m\u001b[1;33m.\u001b[0m\u001b[0margs\u001b[0m\u001b[1;33m[\u001b[0m\u001b[1;36m1\u001b[0m\u001b[1;33m]\u001b[0m\u001b[1;33m.\u001b[0m\u001b[0mnegated\u001b[0m\u001b[1;33m)\u001b[0m\u001b[1;33m\u001b[0m\u001b[0m\n\u001b[0;32m      5\u001b[0m \u001b[0mprint\u001b[0m\u001b[1;33m(\u001b[0m\u001b[0mtype\u001b[0m\u001b[1;33m(\u001b[0m\u001b[0mr\u001b[0m\u001b[1;33m)\u001b[0m\u001b[1;33m)\u001b[0m\u001b[1;33m\u001b[0m\u001b[0m\n",
      "\u001b[1;31mAttributeError\u001b[0m: 'Disjunction' object has no attribute 'name'"
     ]
    }
   ],
   "source": [
    "f = (a % a) >> (b % b)\n",
    "r = remove_imp_eq(f)\n",
    "print(r.args[0].name, r.args[0].negated)\n",
    "print(r.args[1].name, r.args[1].negated)\n",
    "print(type(r))"
   ]
  },
  {
   "cell_type": "code",
   "execution_count": 9,
   "metadata": {},
   "outputs": [],
   "source": [
    "def de_morgan(formula):\n",
    "    if type(formula) == Var:\n",
    "        return formula\n",
    "    if type(formula) == Disjunction :\n",
    "        if formula.negated:\n",
    "            return de_morgan(-formula.args[0]) * de_morgan(-formula.args[1])\n",
    "        else:\n",
    "            return de_morgan(formula.args[0]) + de_morgan(formula.args[1])\n",
    "    if type(formula) == Conjunction:\n",
    "        if formula.negated:\n",
    "            return de_morgan(-formula.args[0]) + de_morgan(-formula.args[1])\n",
    "        else:\n",
    "            return de_morgan(formula.args[0]) * de_morgan(formula.args[1])\n",
    "    \n",
    "        \n",
    "a = Var('a')\n",
    "b = Var('b')\n",
    "c = Var('c')\n",
    "d = Var('d')\n",
    "\n",
    "f = -(a * b) + --(c * d) + a + --(a + a)\n",
    "d = de_morgan(f)"
   ]
  },
  {
   "cell_type": "code",
   "execution_count": 10,
   "metadata": {},
   "outputs": [
    {
     "data": {
      "text/plain": [
       "<__main__.Conjunction at 0x153829b1940>"
      ]
     },
     "execution_count": 10,
     "metadata": {},
     "output_type": "execute_result"
    }
   ],
   "source": [
    "d.args[0].args[0].args[1]"
   ]
  },
  {
   "cell_type": "code",
   "execution_count": 219,
   "metadata": {},
   "outputs": [],
   "source": [
    "def flatten_list(l):\n",
    "    flat_list = []\n",
    "    for list_elem in l:\n",
    "        if type(list_elem) == list:\n",
    "            for item in list_elem:\n",
    "                flat_list.append(item)\n",
    "        else:\n",
    "            flat_list.append(list_elem)\n",
    "    return flat_list\n",
    "\n",
    "def remove_associativity(formula):\n",
    "    if type(formula) != Var: \n",
    "        for i, arg in enumerate(formula.args):\n",
    "            if (type(formula) == Disjunction and type(formula.args[i]) == Disjunction) or \\\n",
    "            (type(formula) == Conjunction and type(formula.args[i]) == Conjunction):\n",
    "                formula.args[i] = formula.args[i].args\n",
    "                formula.args = flatten_list(formula.args)\n",
    "                remove_associativity(formula)  \n",
    "        for i, arg in enumerate(formula.args):\n",
    "            remove_associativity(arg)"
   ]
  },
  {
   "cell_type": "code",
   "execution_count": 241,
   "metadata": {},
   "outputs": [
    {
     "data": {
      "text/plain": [
       "[<__main__.Var at 0x15382c04e10>,\n",
       " <__main__.Var at 0x15382c04e10>,\n",
       " <__main__.Var at 0x15382c04e10>,\n",
       " <__main__.Var at 0x15382c04e10>]"
      ]
     },
     "execution_count": 241,
     "metadata": {},
     "output_type": "execute_result"
    }
   ],
   "source": [
    "form = a * (a + (b*b*b*b) + a) * a\n",
    "remove_associativity(form)\n",
    "\n",
    "form.args[1].args[1].args"
   ]
  },
  {
   "cell_type": "code",
   "execution_count": 259,
   "metadata": {},
   "outputs": [
    {
     "data": {
      "text/plain": [
       "[<__main__.Disjunction at 0x15382bd4e48>,\n",
       " <__main__.Var at 0x15382c04e10>,\n",
       " <__main__.Var at 0x15382c04e10>]"
      ]
     },
     "execution_count": 259,
     "metadata": {},
     "output_type": "execute_result"
    }
   ],
   "source": [
    "form = (a+a)*(b*b)\n",
    "remove_associativity(form)\n",
    "form.args"
   ]
  },
  {
   "cell_type": "code",
   "execution_count": 571,
   "metadata": {},
   "outputs": [],
   "source": [
    "def sort_leaves(formula):\n",
    "    for i, arg in enumerate(formula.args):\n",
    "        if type(arg) != Var:\n",
    "            sort_leaves(arg)        \n",
    "    for i, arg in enumerate(formula.args):\n",
    "        if type(arg) != Var:\n",
    "            return\n",
    "    formula.args.sort()"
   ]
  },
  {
   "cell_type": "code",
   "execution_count": 564,
   "metadata": {},
   "outputs": [
    {
     "data": {
      "text/plain": [
       "(<__main__.Var at 0x1539922ae80>,\n",
       " <__main__.Var at 0x1539922a860>,\n",
       " <__main__.Var at 0x153993e5ba8>,\n",
       " <__main__.Var at 0x15382bd4780>,\n",
       " <__main__.Var at 0x1539960ef60>)"
      ]
     },
     "execution_count": 564,
     "metadata": {},
     "output_type": "execute_result"
    }
   ],
   "source": [
    "a = Var('a')\n",
    "b = Var('b')\n",
    "c = Var('c')\n",
    "d = Var('d')\n",
    "e = Var('e')\n",
    "a,b,c,d,e"
   ]
  },
  {
   "cell_type": "code",
   "execution_count": 572,
   "metadata": {},
   "outputs": [
    {
     "data": {
      "text/plain": [
       "'a'"
      ]
     },
     "execution_count": 572,
     "metadata": {},
     "output_type": "execute_result"
    }
   ],
   "source": [
    "f = d * (c + b) * e * (b + a) \n",
    "remove_associativity(f)\n",
    "sort_leaves(f)\n",
    "f.args[3].args[0].name"
   ]
  }
 ],
 "metadata": {
  "kernelspec": {
   "display_name": "Python 3",
   "language": "python",
   "name": "python3"
  },
  "language_info": {
   "codemirror_mode": {
    "name": "ipython",
    "version": 3
   },
   "file_extension": ".py",
   "mimetype": "text/x-python",
   "name": "python",
   "nbconvert_exporter": "python",
   "pygments_lexer": "ipython3",
   "version": "3.6.4"
  }
 },
 "nbformat": 4,
 "nbformat_minor": 2
}
