{
 "cells": [
  {
   "cell_type": "code",
   "execution_count": 1,
   "metadata": {},
   "outputs": [],
   "source": [
    "from copy import copy"
   ]
  },
  {
   "cell_type": "code",
   "execution_count": 26,
   "metadata": {},
   "outputs": [],
   "source": [
    "VAR_INDEX = 0\n",
    "\n",
    "# Abstract class Formula\n",
    "class Formula(): \n",
    "    def __init__(self, args, negated=False):\n",
    "        self.negated = negated\n",
    "        self.args = args \n",
    "        self.tree_args = []\n",
    "    def __neg__(self): \n",
    "        new_object = copy(self)\n",
    "        new_object.negated = not new_object.negated\n",
    "        return new_object \n",
    "    def __add__(self, other): return Disjunction(self, other)\n",
    "    def __mul__(self, other): return Conjunction(self, other)\n",
    "    def __rshift__(self, other): return Implication(self, other)\n",
    "    def __mod__(self, other): return Equivalence(self, other)\n",
    "    def __lt__(self, other):\n",
    "        if type(self) == Var and type(other) == Var:\n",
    "            return self.name < other.name\n",
    "        if type(self) == Var and (type(other) == Conjunction or type(other) == Disjunction):\n",
    "            return self.name <= other.args[0].name\n",
    "        if  (type(self) == Conjunction or type(self) == Disjunction) and type(other) == Var:\n",
    "            return self.args[0].name < other.name\n",
    "        if  (type(self) == Conjunction and type(other) == Conjunction) or (type(self) == Disjunction and type(other) == Disjunction):\n",
    "            self_names = []\n",
    "            other_names = []\n",
    "            for arg in self.args:\n",
    "                self_names.append(arg.name)\n",
    "            for arg in other.args:\n",
    "                other_names.append(arg.name)\n",
    "            print(self_names, other_names)\n",
    "            return self_names < other_names\n",
    "        \n",
    "        \n",
    "# Abstract class Connective \n",
    "class Connective(Formula): \n",
    "    def __init__(self, left, right):\n",
    "        super().__init__([left, right], False)\n",
    "        \n",
    "\n",
    "# Conjunction\n",
    "class Conjunction(Connective):\n",
    "    pass\n",
    "\n",
    "# Disjunction\n",
    "class Disjunction(Connective): \n",
    "    pass\n",
    "\n",
    "# Implication\n",
    "class Implication(Formula):\n",
    "    def __init__(self, left, right):\n",
    "        super().__init__([left, right], False)\n",
    "\n",
    "# Equivalence\n",
    "class Equivalence(Formula): \n",
    "    def __init__(self, left, right):\n",
    "        super().__init__([left, right], False)\n",
    "\n",
    "# Variable\n",
    "class Var(Formula):\n",
    "    def __init__(self, name, specific_negated=False):\n",
    "        super().__init__(None, negated=specific_negated)        \n",
    "        global VAR_INDEX\n",
    "        self.index = VAR_INDEX\n",
    "        VAR_INDEX += 1\n",
    "        self.name = name"
   ]
  },
  {
   "cell_type": "code",
   "execution_count": 3,
   "metadata": {},
   "outputs": [],
   "source": [
    "def remove_imp_eq(formula):\n",
    "    if type(formula) == Var:\n",
    "        return formula\n",
    "    \n",
    "    if type(formula) == Conjunction:\n",
    "        expr = remove_imp_eq(formula.args[0]) * remove_imp_eq(formula.args[1])\n",
    "    \n",
    "    if type(formula) == Disjunction:\n",
    "        expr = remove_imp_eq(formula.args[0]) + remove_imp_eq(formula.args[1])\n",
    "    \n",
    "    if type(formula) == Implication:\n",
    "        expr = remove_imp_eq(-(formula.args[0])) + remove_imp_eq(formula.args[1])\n",
    "    \n",
    "    if type(formula) == Equivalence:\n",
    "        expr = remove_imp_eq(formula.args[0]) * remove_imp_eq(formula.args[1]) + \\\n",
    "               remove_imp_eq(-(formula.args[0])) * remove_imp_eq(-(formula.args[1]))\n",
    "    expr.negated = formula.negated\n",
    "    return expr\n",
    "\n",
    "def de_morgan(formula):\n",
    "    if type(formula) == Var:\n",
    "        return formula\n",
    "    if type(formula) == Disjunction :\n",
    "        if formula.negated:\n",
    "            return de_morgan(-formula.args[0]) * de_morgan(-formula.args[1])\n",
    "        else:\n",
    "            return de_morgan(formula.args[0]) + de_morgan(formula.args[1])\n",
    "    if type(formula) == Conjunction:\n",
    "        if formula.negated:\n",
    "            return de_morgan(-formula.args[0]) + de_morgan(-formula.args[1])\n",
    "        else:\n",
    "            return de_morgan(formula.args[0]) * de_morgan(formula.args[1])\n",
    "\n",
    "def flatten_list(l):\n",
    "    flat_list = []\n",
    "    for list_elem in l:\n",
    "        if type(list_elem) == list:\n",
    "            for item in list_elem:\n",
    "                flat_list.append(item)\n",
    "        else:\n",
    "            flat_list.append(list_elem)\n",
    "    return flat_list\n",
    "\n",
    "def remove_associativity(formula):\n",
    "    if type(formula) != Var: \n",
    "        for i, arg in enumerate(formula.args):\n",
    "            if (type(formula) == Disjunction and type(formula.args[i]) == Disjunction) or \\\n",
    "            (type(formula) == Conjunction and type(formula.args[i]) == Conjunction):\n",
    "                formula.args[i] = formula.args[i].args\n",
    "                formula.args = flatten_list(formula.args)\n",
    "                remove_associativity(formula)  \n",
    "        for i, arg in enumerate(formula.args):\n",
    "            remove_associativity(arg)"
   ]
  },
  {
   "cell_type": "code",
   "execution_count": 4,
   "metadata": {},
   "outputs": [],
   "source": [
    "def sort_leaves(formula):\n",
    "    for i, arg in enumerate(formula.args):\n",
    "        if type(arg) != Var:\n",
    "            sort_leaves(arg)        \n",
    "    for i, arg in enumerate(formula.args):\n",
    "        if type(arg) != Var:\n",
    "            return\n",
    "    formula.args.sort()"
   ]
  },
  {
   "cell_type": "code",
   "execution_count": 64,
   "metadata": {},
   "outputs": [],
   "source": [
    "def is_flatten(lst):\n",
    "    for elem in lst:\n",
    "        if type(lst) == list:\n",
    "            return False\n",
    "    return True"
   ]
  },
  {
   "cell_type": "code",
   "execution_count": 100,
   "metadata": {},
   "outputs": [],
   "source": [
    "def get_tree_args(formula):\n",
    "    if type(formula) != Var:\n",
    "        for i, arg in enumerate(formula.args):\n",
    "            get_tree_args(arg)\n",
    "            if type(arg) == Conjunction or type(arg) == Disjunction:\n",
    "                for j, inner_arg in enumerate(arg.args):\n",
    "                    if type(inner_arg) == Var:\n",
    "                        inner_arg.tree_args = inner_arg.name\n",
    "                        arg.tree_args += [inner_arg.name]\n",
    "                    else:\n",
    "                        arg.tree_args += [inner_arg.tree_args]\n",
    "                        \n",
    "def get_root_tree(formula):\n",
    "    for arg in formula.args:\n",
    "        formula.tree_args.append(arg.tree_args)\n",
    "        \n",
    "def get_formula_tree(formula):\n",
    "    get_tree_args(formula)\n",
    "    get_root_tree(formula)"
   ]
  },
  {
   "cell_type": "code",
   "execution_count": 79,
   "metadata": {},
   "outputs": [
    {
     "ename": "SyntaxError",
     "evalue": "invalid syntax (<ipython-input-79-9bbfef43011d>, line 2)",
     "output_type": "error",
     "traceback": [
      "\u001b[1;36m  File \u001b[1;32m\"<ipython-input-79-9bbfef43011d>\"\u001b[1;36m, line \u001b[1;32m2\u001b[0m\n\u001b[1;33m    if is_flatten(formula.tree_arg)\u001b[0m\n\u001b[1;37m                                   ^\u001b[0m\n\u001b[1;31mSyntaxError\u001b[0m\u001b[1;31m:\u001b[0m invalid syntax\n"
     ]
    }
   ],
   "source": [
    "def sort_nodes(formula):\n",
    "    if is_flatten(formula.tree_arg):\n",
    "        return sorted(formula.tree_arg)"
   ]
  },
  {
   "cell_type": "code",
   "execution_count": 106,
   "metadata": {},
   "outputs": [
    {
     "data": {
      "text/plain": [
       "(<__main__.Var at 0x22a6727d2e8>,\n",
       " <__main__.Var at 0x22a6727df28>,\n",
       " <__main__.Var at 0x22a6727d908>,\n",
       " <__main__.Var at 0x22a6727d3c8>,\n",
       " <__main__.Var at 0x22a6727d6d8>)"
      ]
     },
     "execution_count": 106,
     "metadata": {},
     "output_type": "execute_result"
    }
   ],
   "source": [
    "a = Var('a')\n",
    "b = Var('b')\n",
    "c = Var('c')\n",
    "d = Var('d')\n",
    "e = Var('e')\n",
    "g = Var('g')\n",
    "a,b,c,d,e"
   ]
  },
  {
   "cell_type": "code",
   "execution_count": 107,
   "metadata": {},
   "outputs": [],
   "source": [
    "f = (d+a+e*(d+a)*((g*g) + a)) * (a*g + c*c) * e * (b + a) \n",
    "remove_associativity(f)\n",
    "sort_leaves(f)\n",
    "get_formula_tree(f)"
   ]
  },
  {
   "cell_type": "code",
   "execution_count": 108,
   "metadata": {},
   "outputs": [
    {
     "data": {
      "text/plain": [
       "[['d', 'a', ['e', ['a', 'd'], [['g', 'g'], 'a']]],\n",
       " [['a', 'g'], ['c', 'c']],\n",
       " 'e',\n",
       " ['a', 'b']]"
      ]
     },
     "execution_count": 108,
     "metadata": {},
     "output_type": "execute_result"
    }
   ],
   "source": [
    "f.tree_args"
   ]
  },
  {
   "cell_type": "code",
   "execution_count": 104,
   "metadata": {},
   "outputs": [
    {
     "data": {
      "text/plain": [
       "[['a', 'g'], ['c', 'c']]"
      ]
     },
     "execution_count": 104,
     "metadata": {},
     "output_type": "execute_result"
    }
   ],
   "source": [
    "f.args[1].tree_args"
   ]
  },
  {
   "cell_type": "code",
   "execution_count": 105,
   "metadata": {},
   "outputs": [
    {
     "data": {
      "text/plain": [
       "['e', ['a', 'd'], [['g', 'g'], 'a']]"
      ]
     },
     "execution_count": 105,
     "metadata": {},
     "output_type": "execute_result"
    }
   ],
   "source": [
    "f.args[0].args[2].tree_args"
   ]
  }
 ],
 "metadata": {
  "kernelspec": {
   "display_name": "Python 3",
   "language": "python",
   "name": "python3"
  },
  "language_info": {
   "codemirror_mode": {
    "name": "ipython",
    "version": 3
   },
   "file_extension": ".py",
   "mimetype": "text/x-python",
   "name": "python",
   "nbconvert_exporter": "python",
   "pygments_lexer": "ipython3",
   "version": "3.7.3"
  }
 },
 "nbformat": 4,
 "nbformat_minor": 2
}
