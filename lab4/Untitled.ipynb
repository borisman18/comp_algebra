{
 "cells": [
  {
   "cell_type": "code",
   "execution_count": 3,
   "metadata": {},
   "outputs": [],
   "source": [
    "from copy import copy"
   ]
  },
  {
   "cell_type": "code",
   "execution_count": 4,
   "metadata": {},
   "outputs": [],
   "source": [
    "VAR_INDEX = 0\n",
    "\n",
    "# Abstract class Formula\n",
    "class Formula(): \n",
    "    def __init__(self, args, negated=False):\n",
    "        self.negated = negated\n",
    "        self.args = args  \n",
    "    def __neg__(self): \n",
    "        new_object = copy(self)\n",
    "        new_object.negated = not new_object.negated\n",
    "        return new_object \n",
    "    def __add__(self, other): return Disjunction(self, other)\n",
    "    def __mul__(self, other): return Conjunction(self, other)\n",
    "    def __rshift__(self, other): return Implication(self, other)\n",
    "    def __mod__(self, other): return Equivalence(self, other)\n",
    "        \n",
    "    \n",
    "    \n",
    "\n",
    "# Abstract class Connective \n",
    "class Connective(Formula): \n",
    "    def __init__(self, left, right):\n",
    "        super().__init__([left, right], False)\n",
    "\n",
    "# Conjunction\n",
    "class Conjunction(Connective):\n",
    "    pass\n",
    "\n",
    "# Disjunction\n",
    "class Disjunction(Connective): \n",
    "    pass\n",
    "\n",
    "# Implication\n",
    "class Implication(Formula):\n",
    "    def __init__(self, left, right):\n",
    "        super().__init__([left, right], False)\n",
    "\n",
    "# Equivalence\n",
    "class Equivalence(Formula): \n",
    "    def __init__(self, left, right):\n",
    "        super().__init__([left, right], False)\n",
    "\n",
    "# Variable\n",
    "class Var(Formula):\n",
    "    def __init__(self, name, specific_negated=False):\n",
    "        super().__init__(None, negated=specific_negated)        \n",
    "        global VAR_INDEX\n",
    "        self.index = VAR_INDEX\n",
    "        VAR_INDEX += 1\n",
    "        self.name = name"
   ]
  },
  {
   "cell_type": "code",
   "execution_count": 5,
   "metadata": {},
   "outputs": [],
   "source": [
    "def remove_imp_eq(formula):\n",
    "    if type(formula) == Var:\n",
    "        return formula\n",
    "    \n",
    "    if type(formula) == Conjunction:\n",
    "        expr = remove_imp_eq(formula.args[0]) * remove_imp_eq(formula.args[1])\n",
    "        expr.negated = formula.negated\n",
    "        return expr\n",
    "    \n",
    "    if type(formula) == Disjunction:\n",
    "        expr = remove_imp_eq(formula.args[0]) + remove_imp_eq(formula.args[1])\n",
    "        expr.negated = formula.negated\n",
    "        return expr\n",
    "    \n",
    "    if type(formula) == Implication:\n",
    "        expr = remove_imp_eq(-(formula.args[0])) + remove_imp_eq(formula.args[1])\n",
    "        expr.negated = formula.negated\n",
    "        return expr\n",
    "    \n",
    "    if type(formula) == Equivalence:\n",
    "        expr = remove_imp_eq(formula.args[0]) * remove_imp_eq(formula.args[1]) + \\\n",
    "               remove_imp_eq(-(formula.args[0])) * remove_imp_eq(-(formula.args[1]))\n",
    "        expr.negated = formula.negated\n",
    "        return expr"
   ]
  },
  {
   "cell_type": "code",
   "execution_count": 375,
   "metadata": {},
   "outputs": [],
   "source": [
    "def de_morgan(formula):\n",
    "    if type(formula) == Var:\n",
    "        return formula\n",
    "    if type(formula) == Disjunction :\n",
    "        if formula.negated:\n",
    "            return de_morgan(-formula.args[0]) * de_morgan(-formula.args[1])\n",
    "        else:\n",
    "            return de_morgan(formula.args[0]) + de_morgan(formula.args[1])\n",
    "    if type(formula) == Conjunction:\n",
    "        if formula.negated:\n",
    "            return de_morgan(-formula.args[0]) + de_morgan(-formula.args[1])\n",
    "        else:\n",
    "            return de_morgan(formula.args[0]) * de_morgan(formula.args[1])\n",
    "    \n",
    "        \n",
    "a = Var('a')\n",
    "b = Var('b')\n",
    "c = Var('c')\n",
    "d = Var('d')\n",
    "\n",
    "f = -(a * b) + --(c * d) + a + --(a + a)\n",
    "d = de_morgan(f)"
   ]
  },
  {
   "cell_type": "code",
   "execution_count": 377,
   "metadata": {},
   "outputs": [
    {
     "data": {
      "text/plain": [
       "<__main__.Conjunction at 0x2b69292b550>"
      ]
     },
     "execution_count": 377,
     "metadata": {},
     "output_type": "execute_result"
    }
   ],
   "source": [
    "d.args[0].args[0].args[1]"
   ]
  },
  {
   "cell_type": "code",
   "execution_count": 277,
   "metadata": {},
   "outputs": [],
   "source": [
    "def remove_associativity(formula):\n",
    "    if type(formula) == Var:\n",
    "        return formula\n",
    "#     if type(formula) == Disjunction:\n",
    "    if type(formula.args[0]) == Disjunction:\n",
    "        return [remove_associativity(formula.args[0]), formula.args[1]]\n",
    "    else:\n",
    "        print(formula.args)\n",
    "        return [formula.args[0], formula.args[1]]       \n",
    "        \n",
    "def flatten_list(x):\n",
    "    if type(x[0]) == list:\n",
    "        return flatten_list(x[0]) + [x[1]]\n",
    "    return x\n",
    "            "
   ]
  },
  {
   "cell_type": "code",
   "execution_count": 323,
   "metadata": {
    "scrolled": true
   },
   "outputs": [],
   "source": [
    "a = Var('a')\n",
    "b = Var('b')\n",
    "c = Var('c')\n",
    "d = Var('d')\n",
    "\n",
    "f = -(a * b) + -(c * d) + a + -(a + a)"
   ]
  },
  {
   "cell_type": "code",
   "execution_count": 324,
   "metadata": {},
   "outputs": [],
   "source": [
    "de_morgan(f)"
   ]
  },
  {
   "cell_type": "code",
   "execution_count": 319,
   "metadata": {},
   "outputs": [
    {
     "data": {
      "text/plain": [
       "True"
      ]
     },
     "execution_count": 319,
     "metadata": {},
     "output_type": "execute_result"
    }
   ],
   "source": [
    "e.negated"
   ]
  },
  {
   "cell_type": "code",
   "execution_count": 306,
   "metadata": {},
   "outputs": [
    {
     "name": "stdout",
     "output_type": "stream",
     "text": [
      "[<__main__.Conjunction object at 0x000002B69292E0B8>, <__main__.Conjunction object at 0x000002B69292E748>]\n"
     ]
    },
    {
     "data": {
      "text/plain": [
       "[[[<__main__.Conjunction at 0x2b69292e0b8>,\n",
       "   <__main__.Conjunction at 0x2b69292e748>],\n",
       "  <__main__.Var at 0x2b69292e0f0>],\n",
       " <__main__.Var at 0x2b69292e0f0>]"
      ]
     },
     "execution_count": 306,
     "metadata": {},
     "output_type": "execute_result"
    }
   ],
   "source": [
    "remove_associativity(f)"
   ]
  },
  {
   "cell_type": "code",
   "execution_count": 268,
   "metadata": {},
   "outputs": [
    {
     "data": {
      "text/plain": [
       "(<__main__.Var at 0x2b692453f60>,\n",
       " <__main__.Var at 0x2b692453160>,\n",
       " <__main__.Var at 0x2b692453da0>,\n",
       " <__main__.Var at 0x2b692453cc0>)"
      ]
     },
     "execution_count": 268,
     "metadata": {},
     "output_type": "execute_result"
    }
   ],
   "source": [
    "a, b, c, d"
   ]
  },
  {
   "cell_type": "code",
   "execution_count": 707,
   "metadata": {},
   "outputs": [
    {
     "name": "stdout",
     "output_type": "stream",
     "text": [
      "impl\n",
      "eq\n",
      "eq\n"
     ]
    },
    {
     "ename": "AttributeError",
     "evalue": "'Disjunction' object has no attribute 'name'",
     "output_type": "error",
     "traceback": [
      "\u001b[1;31m---------------------------------------------------------------------------\u001b[0m",
      "\u001b[1;31mAttributeError\u001b[0m                            Traceback (most recent call last)",
      "\u001b[1;32m<ipython-input-707-97d23a852a2c>\u001b[0m in \u001b[0;36m<module>\u001b[1;34m()\u001b[0m\n\u001b[0;32m      1\u001b[0m \u001b[0mf\u001b[0m \u001b[1;33m=\u001b[0m \u001b[1;33m(\u001b[0m\u001b[0ma\u001b[0m \u001b[1;33m%\u001b[0m \u001b[0ma\u001b[0m\u001b[1;33m)\u001b[0m \u001b[1;33m>>\u001b[0m \u001b[1;33m(\u001b[0m\u001b[0mb\u001b[0m \u001b[1;33m%\u001b[0m \u001b[0mb\u001b[0m\u001b[1;33m)\u001b[0m\u001b[1;33m\u001b[0m\u001b[0m\n\u001b[0;32m      2\u001b[0m \u001b[0mr\u001b[0m \u001b[1;33m=\u001b[0m \u001b[0mremove_imp_eq\u001b[0m\u001b[1;33m(\u001b[0m\u001b[0mf\u001b[0m\u001b[1;33m)\u001b[0m\u001b[1;33m\u001b[0m\u001b[0m\n\u001b[1;32m----> 3\u001b[1;33m \u001b[0mprint\u001b[0m\u001b[1;33m(\u001b[0m\u001b[0mr\u001b[0m\u001b[1;33m.\u001b[0m\u001b[0margs\u001b[0m\u001b[1;33m[\u001b[0m\u001b[1;36m0\u001b[0m\u001b[1;33m]\u001b[0m\u001b[1;33m.\u001b[0m\u001b[0mname\u001b[0m\u001b[1;33m,\u001b[0m \u001b[0mr\u001b[0m\u001b[1;33m.\u001b[0m\u001b[0margs\u001b[0m\u001b[1;33m[\u001b[0m\u001b[1;36m0\u001b[0m\u001b[1;33m]\u001b[0m\u001b[1;33m.\u001b[0m\u001b[0mnegated\u001b[0m\u001b[1;33m)\u001b[0m\u001b[1;33m\u001b[0m\u001b[0m\n\u001b[0m\u001b[0;32m      4\u001b[0m \u001b[0mprint\u001b[0m\u001b[1;33m(\u001b[0m\u001b[0mr\u001b[0m\u001b[1;33m.\u001b[0m\u001b[0margs\u001b[0m\u001b[1;33m[\u001b[0m\u001b[1;36m1\u001b[0m\u001b[1;33m]\u001b[0m\u001b[1;33m.\u001b[0m\u001b[0mname\u001b[0m\u001b[1;33m,\u001b[0m \u001b[0mr\u001b[0m\u001b[1;33m.\u001b[0m\u001b[0margs\u001b[0m\u001b[1;33m[\u001b[0m\u001b[1;36m1\u001b[0m\u001b[1;33m]\u001b[0m\u001b[1;33m.\u001b[0m\u001b[0mnegated\u001b[0m\u001b[1;33m)\u001b[0m\u001b[1;33m\u001b[0m\u001b[0m\n\u001b[0;32m      5\u001b[0m \u001b[0mprint\u001b[0m\u001b[1;33m(\u001b[0m\u001b[0mtype\u001b[0m\u001b[1;33m(\u001b[0m\u001b[0mr\u001b[0m\u001b[1;33m)\u001b[0m\u001b[1;33m)\u001b[0m\u001b[1;33m\u001b[0m\u001b[0m\n",
      "\u001b[1;31mAttributeError\u001b[0m: 'Disjunction' object has no attribute 'name'"
     ]
    }
   ],
   "source": [
    "f = (a % a) >> (b % b)\n",
    "r = remove_imp_eq(f)\n",
    "print(r.args[0].name, r.args[0].negated)\n",
    "print(r.args[1].name, r.args[1].negated)\n",
    "print(type(r))"
   ]
  }
 ],
 "metadata": {
  "kernelspec": {
   "display_name": "Python 3",
   "language": "python",
   "name": "python3"
  },
  "language_info": {
   "codemirror_mode": {
    "name": "ipython",
    "version": 3
   },
   "file_extension": ".py",
   "mimetype": "text/x-python",
   "name": "python",
   "nbconvert_exporter": "python",
   "pygments_lexer": "ipython3",
   "version": "3.7.3"
  }
 },
 "nbformat": 4,
 "nbformat_minor": 2
}
